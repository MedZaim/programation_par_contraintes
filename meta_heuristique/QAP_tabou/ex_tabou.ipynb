{
 "cells": [
  {
   "cell_type": "code",
   "id": "initial_id",
   "metadata": {
    "collapsed": true,
    "ExecuteTime": {
     "end_time": "2024-11-29T22:06:44.769670Z",
     "start_time": "2024-11-29T22:06:43.878100Z"
    }
   },
   "source": [
    "F = {{0, 5, 2, 4},\n",
    "     {5, 0, 3, 6},\n",
    "     {2, 3, 0, 1},\n",
    "     {4, 6, 1, 0}}\n",
    "D = {{0, 10, 2, 8},\n",
    "     {10, 0, 4, 5},\n",
    "     {2, 4, 0, 7},\n",
    "     {8, 5, 7, 0}}\n"
   ],
   "outputs": [
    {
     "ename": "TypeError",
     "evalue": "unhashable type: 'set'",
     "output_type": "error",
     "traceback": [
      "\u001B[1;31m---------------------------------------------------------------------------\u001B[0m",
      "\u001B[1;31mTypeError\u001B[0m                                 Traceback (most recent call last)",
      "Cell \u001B[1;32mIn[1], line 1\u001B[0m\n\u001B[1;32m----> 1\u001B[0m F \u001B[38;5;241m=\u001B[39m {{\u001B[38;5;241m0\u001B[39m, \u001B[38;5;241m5\u001B[39m, \u001B[38;5;241m2\u001B[39m, \u001B[38;5;241m4\u001B[39m},\n\u001B[0;32m      2\u001B[0m      {\u001B[38;5;241m5\u001B[39m, \u001B[38;5;241m0\u001B[39m, \u001B[38;5;241m3\u001B[39m, \u001B[38;5;241m6\u001B[39m},\n\u001B[0;32m      3\u001B[0m      {\u001B[38;5;241m2\u001B[39m, \u001B[38;5;241m3\u001B[39m, \u001B[38;5;241m0\u001B[39m, \u001B[38;5;241m1\u001B[39m},\n\u001B[0;32m      4\u001B[0m      {\u001B[38;5;241m4\u001B[39m, \u001B[38;5;241m6\u001B[39m, \u001B[38;5;241m1\u001B[39m, \u001B[38;5;241m0\u001B[39m}}\n\u001B[0;32m      5\u001B[0m D \u001B[38;5;241m=\u001B[39m {{\u001B[38;5;241m0\u001B[39m, \u001B[38;5;241m10\u001B[39m, \u001B[38;5;241m2\u001B[39m, \u001B[38;5;241m8\u001B[39m},\n\u001B[0;32m      6\u001B[0m      {\u001B[38;5;241m10\u001B[39m, \u001B[38;5;241m0\u001B[39m, \u001B[38;5;241m4\u001B[39m, \u001B[38;5;241m5\u001B[39m},\n\u001B[0;32m      7\u001B[0m      {\u001B[38;5;241m2\u001B[39m, \u001B[38;5;241m4\u001B[39m, \u001B[38;5;241m0\u001B[39m, \u001B[38;5;241m7\u001B[39m},\n\u001B[0;32m      8\u001B[0m      {\u001B[38;5;241m8\u001B[39m, \u001B[38;5;241m5\u001B[39m, \u001B[38;5;241m7\u001B[39m, \u001B[38;5;241m0\u001B[39m}}\n",
      "\u001B[1;31mTypeError\u001B[0m: unhashable type: 'set'"
     ]
    }
   ],
   "execution_count": 1
  },
  {
   "metadata": {},
   "cell_type": "code",
   "outputs": [],
   "execution_count": null,
   "source": [
    "import random\n",
    "\n",
    "def generer_solution_initiale(n):\n",
    "    \"\"\"\n",
    "    Génère une permutation aléatoire des indices de 1 à n.\n",
    "    \"\"\"\n",
    "    indices = list(range(1, n + 1))\n",
    "    random.shuffle(indices)  # Mélange aléatoire\n",
    "    return indices\n"
   ],
   "id": "4fb94c6110e43e4c"
  },
  {
   "metadata": {},
   "cell_type": "code",
   "outputs": [],
   "execution_count": null,
   "source": [
    "def generer_voisins(solution):\n",
    "    \"\"\"\n",
    "    Génère les voisins d'une solution en échangeant deux installations.\n",
    "    \n",
    "    :param solution: Liste représentant une permutation (par ex. [1, 2, 3, 4])\n",
    "    :return: Liste des voisins générés.\n",
    "    \"\"\"\n",
    "    voisins = []\n",
    "    n = len(solution)\n",
    "    \n",
    "    for i in range(n):\n",
    "        for j in range(i + 1, n):\n",
    "            voisin = solution[:]\n",
    "            # Échanger les positions i et j\n",
    "            voisin[i], voisin[j] = voisin[j], voisin[i]\n",
    "            voisins.append(voisin)\n",
    "    \n",
    "    return voisins\n"
   ],
   "id": "eda18056577b4d9c"
  },
  {
   "metadata": {},
   "cell_type": "code",
   "outputs": [],
   "execution_count": null,
   "source": [
    "def get_cout(sol,D,F):\n",
    "    cout=0\n",
    "    for i in range(len(sol)):\n",
    "        for j in range(len(sol)):\n",
    "            cout+= D[i][j]*F[sol[i]][sol[j]]\n",
    "    return cout       \n",
    "            "
   ],
   "id": "69fc4b34adfceb65"
  },
  {
   "metadata": {},
   "cell_type": "code",
   "outputs": [],
   "execution_count": null,
   "source": [
    "def recherche_tabou(List_tabou, max_iter=100, taille_tabou=10):\n",
    "    # Initialisation\n",
    "    solution_courante = generer_solution_initiale(List_tabou)\n",
    "    meilleure_solution = solution_courante\n",
    "    liste_tabou = []\n",
    "    \n",
    "    for iteration in range(max_iter):\n",
    "        # Générer les voisins\n",
    "        voisins = generer_voisins(solution_courante)\n",
    "        \n",
    "        # Évaluer les solutions voisines\n",
    "        meilleur_voisin = None\n",
    "        meilleur_cout = float('inf')\n",
    "        \n",
    "        for voisin in voisins:\n",
    "            cout = get_cout(voisin,D,F)\n",
    "            if voisin not in liste_tabou or cout < get_cout(meilleure_solution, liste_tabou):\n",
    "                if cout < meilleur_cout:\n",
    "                    meilleur_voisin = voisin\n",
    "                    meilleur_cout = cout\n",
    "        \n",
    "        # Mettre à jour la solution courante et la liste tabou\n",
    "        solution_courante = meilleur_voisin\n",
    "        liste_tabou.append(solution_courante)\n",
    "        if len(liste_tabou) > taille_tabou:\n",
    "            liste_tabou.pop(0)\n",
    "        \n",
    "        # Mettre à jour la meilleure solution\n",
    "        if meilleur_cout < get_cout(meilleure_solution, List_tabou):\n",
    "            meilleure_solution = meilleur_voisin\n",
    "    \n",
    "    return meilleure_solution\n"
   ],
   "id": "ec1d6e7c6f567a1b"
  },
  {
   "metadata": {},
   "cell_type": "code",
   "outputs": [],
   "execution_count": null,
   "source": [
    "List_tabou=[][];\n",
    "s = recherche_tabou(List_tabou, max_iter=100, taille_tabou=10)\n",
    "print(s)"
   ],
   "id": "c02f21b5547ec506"
  }
 ],
 "metadata": {
  "kernelspec": {
   "display_name": "Python 3",
   "language": "python",
   "name": "python3"
  },
  "language_info": {
   "codemirror_mode": {
    "name": "ipython",
    "version": 2
   },
   "file_extension": ".py",
   "mimetype": "text/x-python",
   "name": "python",
   "nbconvert_exporter": "python",
   "pygments_lexer": "ipython2",
   "version": "2.7.6"
  }
 },
 "nbformat": 4,
 "nbformat_minor": 5
}
