{
 "cells": [
  {
   "cell_type": "code",
   "id": "initial_id",
   "metadata": {
    "collapsed": true,
    "ExecuteTime": {
     "end_time": "2024-11-04T16:40:01.562949Z",
     "start_time": "2024-11-04T16:40:01.558397Z"
    }
   },
   "source": [
    "import matplotlib.pyplot as plt\n",
    "import numpy as np"
   ],
   "outputs": [],
   "execution_count": 220
  },
  {
   "metadata": {
    "ExecuteTime": {
     "end_time": "2024-11-04T16:40:01.624645Z",
     "start_time": "2024-11-04T16:40:01.610795Z"
    }
   },
   "cell_type": "code",
   "source": [
    "X = [np.random.randint(0, 2, size=5) for _ in range(4)]\n",
    "X"
   ],
   "id": "37d07aa05fc2f452",
   "outputs": [
    {
     "data": {
      "text/plain": [
       "[array([0, 1, 1, 0, 0], dtype=int32),\n",
       " array([0, 1, 1, 1, 1], dtype=int32),\n",
       " array([1, 0, 1, 0, 1], dtype=int32),\n",
       " array([1, 0, 1, 0, 1], dtype=int32)]"
      ]
     },
     "execution_count": 221,
     "metadata": {},
     "output_type": "execute_result"
    }
   ],
   "execution_count": 221
  },
  {
   "metadata": {
    "ExecuteTime": {
     "end_time": "2024-11-04T16:40:01.675724Z",
     "start_time": "2024-11-04T16:40:01.665562Z"
    }
   },
   "cell_type": "code",
   "source": [
    "def f(X):\n",
    "    X_array = np.array(X)\n",
    "    nv = np.sum(X_array, axis=1)  \n",
    "    ne = (nv * (nv - 1)) / 2  \n",
    "    aptitude = ne - 0.5 * nv  \n",
    "    #print(f'nv ={nv}')\n",
    "    return aptitude.tolist()"
   ],
   "id": "937953aff4dfe4af",
   "outputs": [],
   "execution_count": 222
  },
  {
   "metadata": {},
   "cell_type": "markdown",
   "source": "",
   "id": "abfd2d3693c535f9"
  },
  {
   "metadata": {
    "ExecuteTime": {
     "end_time": "2024-11-04T16:40:01.749682Z",
     "start_time": "2024-11-04T16:40:01.737452Z"
    }
   },
   "cell_type": "code",
   "source": [
    "def classer_sur_f_objectif(X):\n",
    "    fX = f(X)\n",
    "    X_sorted = [x for _, x in sorted(zip(fX, X), key=lambda pair: pair[0], reverse=True)]\n",
    "    X[:] = X_sorted"
   ],
   "id": "d26679551a73eef3",
   "outputs": [],
   "execution_count": 223
  },
  {
   "metadata": {
    "ExecuteTime": {
     "end_time": "2024-11-04T16:40:01.783102Z",
     "start_time": "2024-11-04T16:40:01.767186Z"
    }
   },
   "cell_type": "code",
   "source": [
    "Y = f(X)\n",
    "Y"
   ],
   "id": "8d96aea155f8374",
   "outputs": [
    {
     "data": {
      "text/plain": [
       "[0.0, 4.0, 1.5, 1.5]"
      ]
     },
     "execution_count": 224,
     "metadata": {},
     "output_type": "execute_result"
    }
   ],
   "execution_count": 224
  },
  {
   "metadata": {
    "ExecuteTime": {
     "end_time": "2024-11-04T16:40:01.910254Z",
     "start_time": "2024-11-04T16:40:01.901679Z"
    }
   },
   "cell_type": "code",
   "source": "classer_sur_f_objectif(X)",
   "id": "e5cc9356b69c5cf6",
   "outputs": [],
   "execution_count": 225
  },
  {
   "metadata": {
    "ExecuteTime": {
     "end_time": "2024-11-04T16:40:01.971085Z",
     "start_time": "2024-11-04T16:40:01.963760Z"
    }
   },
   "cell_type": "code",
   "source": [
    "Y = f(X)\n",
    "Y"
   ],
   "id": "45513a29191679a6",
   "outputs": [
    {
     "data": {
      "text/plain": [
       "[4.0, 1.5, 1.5, 0.0]"
      ]
     },
     "execution_count": 226,
     "metadata": {},
     "output_type": "execute_result"
    }
   ],
   "execution_count": 226
  },
  {
   "metadata": {
    "ExecuteTime": {
     "end_time": "2024-11-04T16:40:02.128363Z",
     "start_time": "2024-11-04T16:40:02.116319Z"
    }
   },
   "cell_type": "code",
   "source": [
    "def selectioner_et_croiser(X):\n",
    "    y = f(X)  \n",
    "    # 9ad  y bax mayb9ax fiha ta 9ima saliba\n",
    "    if min(y) <= 0:\n",
    "        min_y = min(y)\n",
    "        y = [val + abs(min_y) + 1 for val in y]\n",
    "    \n",
    "    objectif_total = sum(y)\n",
    "    p = [(val / objectif_total) for val in y]\n",
    "    \n",
    "    \n",
    "    selecting_index_list = np.random.choice(len(X), size=len(X), p=np.array(p))\n",
    "    X_selected = [X[i] for i in selecting_index_list]\n",
    "    \n",
    "    \n",
    "    F = X_selected.copy()\n",
    "    for fi in range(0, len(F) - 1, 2): \n",
    "        if fi + 1 < len(F): \n",
    "            i = np.random.randint(1, len(F[0]) - 1)\n",
    "           \n",
    "            F[fi][i:], F[fi + 1][i:] = F[fi + 1][i:], F[fi][i:]\n",
    "\n",
    "    X[:] = F[:] \n",
    "    return F"
   ],
   "id": "3f3cf7d73d6d69d3",
   "outputs": [],
   "execution_count": 227
  },
  {
   "metadata": {
    "ExecuteTime": {
     "end_time": "2024-11-04T16:40:02.233074Z",
     "start_time": "2024-11-04T16:40:02.224725Z"
    }
   },
   "cell_type": "code",
   "source": [
    "def mutation_p(X, p=0.25):\n",
    "    for x in X:\n",
    "        nb_mutation = int(p * (len(X[0]) - 1))\n",
    "        for i in range(nb_mutation):\n",
    "            index_to_mutate = np.random.randint(len(X[0]))\n",
    "            new_gen = np.random.randint(2)\n",
    "            x[index_to_mutate] = new_gen\n",
    "    return X \n"
   ],
   "id": "7eb65fe337c29fd",
   "outputs": [],
   "execution_count": 228
  },
  {
   "metadata": {
    "ExecuteTime": {
     "end_time": "2024-11-04T16:40:02.294348Z",
     "start_time": "2024-11-04T16:40:02.287137Z"
    }
   },
   "cell_type": "code",
   "source": [
    "def get_objectif_moyen(X):\n",
    "    Y = f(X)\n",
    "    return sum(Y)/len(Y)"
   ],
   "id": "d416b856e0144aed",
   "outputs": [],
   "execution_count": 229
  },
  {
   "metadata": {
    "ExecuteTime": {
     "end_time": "2024-11-04T16:40:02.360921Z",
     "start_time": "2024-11-04T16:40:02.341204Z"
    }
   },
   "cell_type": "code",
   "source": [
    "def display_history(valus):\n",
    "    n = np.arange(1, len(valus) + 1)\n",
    "    plt.figure(figsize=(8, 4))\n",
    "    plt.plot(n, valus, label=\"Variation du objectif moyenne\")\n",
    "    plt.legend()\n",
    "    plt.xlabel(\"Iteration\")\n",
    "    plt.ylabel(\"Objectif Moyenne\")\n",
    "    plt.title(\"Variation du objectif moyenne ou coure de l'avancement\")\n",
    "    plt.show()"
   ],
   "id": "eceaa72f38e91aa9",
   "outputs": [],
   "execution_count": 230
  },
  {
   "metadata": {
    "ExecuteTime": {
     "end_time": "2024-11-04T16:40:02.378229Z",
     "start_time": "2024-11-04T16:40:02.370386Z"
    }
   },
   "cell_type": "code",
   "source": [
    "def obtimisation_de_sous_graph(X, p_mut_par_bit, n_itr):\n",
    "    obj_moyen_history = []\n",
    "    for i in range(n_itr):\n",
    "        classer_sur_f_objectif(X)\n",
    "        X_decendants = selectioner_et_croiser(X)\n",
    "        X[:] = mutation_p(X_decendants, p_mut_par_bit)\n",
    "        obj_moyen_history.append(get_objectif_moyen(X))\n",
    "    \n",
    "\n",
    "    display_history(obj_moyen_history)\n",
    "    print(\"Optimization complete!\")"
   ],
   "id": "45e5dfafb5e6bbea",
   "outputs": [],
   "execution_count": 231
  },
  {
   "metadata": {
    "ExecuteTime": {
     "end_time": "2024-11-04T16:40:02.452035Z",
     "start_time": "2024-11-04T16:40:02.424683Z"
    }
   },
   "cell_type": "code",
   "source": [
    "X = [np.random.randint(0, 2, size=5) for _ in range(4)]\n",
    "X"
   ],
   "id": "fecb6e92604bd30f",
   "outputs": [
    {
     "data": {
      "text/plain": [
       "[array([1, 1, 1, 1, 1], dtype=int32),\n",
       " array([1, 1, 0, 1, 0], dtype=int32),\n",
       " array([0, 1, 1, 0, 1], dtype=int32),\n",
       " array([0, 0, 1, 0, 0], dtype=int32)]"
      ]
     },
     "execution_count": 232,
     "metadata": {},
     "output_type": "execute_result"
    }
   ],
   "execution_count": 232
  },
  {
   "metadata": {
    "ExecuteTime": {
     "end_time": "2024-11-04T16:40:02.475022Z",
     "start_time": "2024-11-04T16:40:02.464404Z"
    }
   },
   "cell_type": "code",
   "source": [
    "Y = f(X)\n",
    "Y"
   ],
   "id": "69125fd89b43e1b3",
   "outputs": [
    {
     "data": {
      "text/plain": [
       "[7.5, 1.5, 1.5, -0.5]"
      ]
     },
     "execution_count": 233,
     "metadata": {},
     "output_type": "execute_result"
    }
   ],
   "execution_count": 233
  },
  {
   "metadata": {
    "ExecuteTime": {
     "end_time": "2024-11-04T16:40:02.903484Z",
     "start_time": "2024-11-04T16:40:02.545493Z"
    }
   },
   "cell_type": "code",
   "source": [
    "X = [np.random.randint(0, 2, size=5) for _ in range(4)]\n",
    "obtimisation_de_sous_graph(X, 0.25, 50)"
   ],
   "id": "d9117577af5dcbcb",
   "outputs": [
    {
     "data": {
      "text/plain": [
       "<Figure size 800x400 with 1 Axes>"
      ],
      "image/png": "[encoded data removed]"
     },
     "metadata": {},
     "output_type": "display_data"
    },
    {
     "name": "stdout",
     "output_type": "stream",
     "text": [
      "Optimization complete!\n"
     ]
    }
   ],
   "execution_count": 234
  },
  {
   "metadata": {
    "ExecuteTime": {
     "end_time": "2024-11-04T16:40:02.948074Z",
     "start_time": "2024-11-04T16:40:02.936032Z"
    }
   },
   "cell_type": "code",
   "source": "X",
   "id": "d99d1f5a8382304d",
   "outputs": [
    {
     "data": {
      "text/plain": [
       "[array([1, 0, 1, 1, 1], dtype=int32),\n",
       " array([1, 0, 1, 1, 1], dtype=int32),\n",
       " array([1, 0, 1, 1, 1], dtype=int32),\n",
       " array([1, 0, 1, 1, 1], dtype=int32)]"
      ]
     },
     "execution_count": 235,
     "metadata": {},
     "output_type": "execute_result"
    }
   ],
   "execution_count": 235
  }
 ],
 "metadata": {
  "kernelspec": {
   "display_name": "Python 3",
   "language": "python",
   "name": "python3"
  },
  "language_info": {
   "codemirror_mode": {
    "name": "ipython",
    "version": 2
   },
   "file_extension": ".py",
   "mimetype": "text/x-python",
   "name": "python",
   "nbconvert_exporter": "python",
   "pygments_lexer": "ipython2",
   "version": "2.7.6"
  }
 },
 "nbformat": 4,
 "nbformat_minor": 5
}
